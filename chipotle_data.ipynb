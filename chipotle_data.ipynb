{
 "cells": [
  {
   "cell_type": "code",
   "execution_count": 10,
   "metadata": {},
   "outputs": [
    {
     "data": {
      "text/html": [
       "<div>\n",
       "<style scoped>\n",
       "    .dataframe tbody tr th:only-of-type {\n",
       "        vertical-align: middle;\n",
       "    }\n",
       "\n",
       "    .dataframe tbody tr th {\n",
       "        vertical-align: top;\n",
       "    }\n",
       "\n",
       "    .dataframe thead th {\n",
       "        text-align: right;\n",
       "    }\n",
       "</style>\n",
       "<table border=\"1\" class=\"dataframe\">\n",
       "  <thead>\n",
       "    <tr style=\"text-align: right;\">\n",
       "      <th></th>\n",
       "      <th>order_id</th>\n",
       "      <th>quantity</th>\n",
       "      <th>item_name</th>\n",
       "      <th>choice_description</th>\n",
       "      <th>item_price</th>\n",
       "    </tr>\n",
       "  </thead>\n",
       "  <tbody>\n",
       "    <tr>\n",
       "      <th>0</th>\n",
       "      <td>1</td>\n",
       "      <td>1</td>\n",
       "      <td>Chips and Fresh Tomato Salsa</td>\n",
       "      <td>NaN</td>\n",
       "      <td>$2.39</td>\n",
       "    </tr>\n",
       "    <tr>\n",
       "      <th>1</th>\n",
       "      <td>1</td>\n",
       "      <td>1</td>\n",
       "      <td>Izze</td>\n",
       "      <td>[Clementine]</td>\n",
       "      <td>$3.39</td>\n",
       "    </tr>\n",
       "    <tr>\n",
       "      <th>2</th>\n",
       "      <td>1</td>\n",
       "      <td>1</td>\n",
       "      <td>Nantucket Nectar</td>\n",
       "      <td>[Apple]</td>\n",
       "      <td>$3.39</td>\n",
       "    </tr>\n",
       "    <tr>\n",
       "      <th>3</th>\n",
       "      <td>1</td>\n",
       "      <td>1</td>\n",
       "      <td>Chips and Tomatillo-Green Chili Salsa</td>\n",
       "      <td>NaN</td>\n",
       "      <td>$2.39</td>\n",
       "    </tr>\n",
       "    <tr>\n",
       "      <th>4</th>\n",
       "      <td>2</td>\n",
       "      <td>2</td>\n",
       "      <td>Chicken Bowl</td>\n",
       "      <td>[Tomatillo-Red Chili Salsa (Hot), [Black Beans...</td>\n",
       "      <td>$16.98</td>\n",
       "    </tr>\n",
       "  </tbody>\n",
       "</table>\n",
       "</div>"
      ],
      "text/plain": [
       "   order_id  quantity                              item_name  \\\n",
       "0         1         1           Chips and Fresh Tomato Salsa   \n",
       "1         1         1                                   Izze   \n",
       "2         1         1                       Nantucket Nectar   \n",
       "3         1         1  Chips and Tomatillo-Green Chili Salsa   \n",
       "4         2         2                           Chicken Bowl   \n",
       "\n",
       "                                  choice_description item_price  \n",
       "0                                                NaN     $2.39   \n",
       "1                                       [Clementine]     $3.39   \n",
       "2                                            [Apple]     $3.39   \n",
       "3                                                NaN     $2.39   \n",
       "4  [Tomatillo-Red Chili Salsa (Hot), [Black Beans...    $16.98   "
      ]
     },
     "execution_count": 10,
     "metadata": {},
     "output_type": "execute_result"
    }
   ],
   "source": [
    "import pandas\n",
    "import seaborn\n",
    "import matplotlib.pyplot as plt\n",
    "\n",
    "url = 'https://raw.githubusercontent.com/justmarkham/DAT8/master/data/chipotle.tsv'\n",
    "\n",
    "chipotle_data = pandas.read_csv(url, sep = '\\t')\n",
    "\n",
    "chipotle_data.head()\t\n"
   ]
  },
  {
   "cell_type": "code",
   "execution_count": 11,
   "metadata": {},
   "outputs": [
    {
     "name": "stdout",
     "output_type": "stream",
     "text": [
      "['order_id', 'quantity', 'item_name', 'choice_description', 'item_price']\n"
     ]
    }
   ],
   "source": [
    "#chipotle_data.info()\n",
    "print(chipotle_data.columns.tolist())\n"
   ]
  },
  {
   "cell_type": "code",
   "execution_count": 17,
   "metadata": {},
   "outputs": [
    {
     "name": "stdout",
     "output_type": "stream",
     "text": [
      "Max quantity: 15\n",
      "Chips and Tomatillo-Green Chili Salsa\n"
     ]
    }
   ],
   "source": [
    "#highest = chipotle_data.idxmax()\n",
    "#print(chipotle_data.max(axis = 'columns'))\n",
    "\n",
    "\n",
    "max_quantity = chipotle_data['quantity'].max()\n",
    "print(f\"Max quantity: {max_quantity}\")\n",
    "\n",
    "highest_name = chipotle_data.loc[max_quantity, 'item_name']\n",
    "print(highest_name)\n"
   ]
  },
  {
   "cell_type": "code",
   "execution_count": 18,
   "metadata": {},
   "outputs": [
    {
     "name": "stdout",
     "output_type": "stream",
     "text": [
      "$39237.02\n"
     ]
    }
   ],
   "source": [
    "totalRevenues = 0.0\n",
    "for index, row in chipotle_data.iterrows():\n",
    "    totalRevenues += (float(row['item_price'].strip('$')) * float(row['quantity']))\n",
    "\n",
    "print(f\"${round(totalRevenues, 2)}\")"
   ]
  },
  {
   "cell_type": "code",
   "execution_count": 19,
   "metadata": {},
   "outputs": [
    {
     "name": "stdout",
     "output_type": "stream",
     "text": [
      "4972\n"
     ]
    }
   ],
   "source": [
    "totalAmount = 0\n",
    "for index, row in chipotle_data.iterrows():\n",
    "    totalAmount += (row['quantity'])\n",
    "\n",
    "print(totalAmount)"
   ]
  },
  {
   "cell_type": "code",
   "execution_count": 20,
   "metadata": {},
   "outputs": [
    {
     "name": "stdout",
     "output_type": "stream",
     "text": [
      "1130\n"
     ]
    }
   ],
   "source": [
    "overTen = 0\n",
    "for index, row in chipotle_data.iterrows():\n",
    "    if(float(row['item_price'].strip('$')) > 10):\n",
    "        overTen += 1\n",
    "    \n",
    "print(overTen)"
   ]
  },
  {
   "cell_type": "code",
   "execution_count": 21,
   "metadata": {},
   "outputs": [
    {
     "name": "stdout",
     "output_type": "stream",
     "text": [
      "{'Chips', 'Crispy Tacos', 'Chips and Tomatillo Red Chili Salsa', 'Chips and Tomatillo-Green Chili Salsa', 'Chicken Crispy Tacos', 'Chips and Roasted Chili-Corn Salsa', 'Steak Soft Tacos', 'Carnitas Crispy Tacos', 'Side of Chips', 'Chips and Tomatillo-Red Chili Salsa', 'Chicken Salad Bowl', 'Chips and Guacamole', 'Bottled Water', 'Veggie Crispy Tacos', 'Veggie Bowl', 'Salad', 'Veggie Salad', 'Veggie Salad Bowl', 'Veggie Soft Tacos', 'Nantucket Nectar', 'Barbacoa Soft Tacos', 'Veggie Burrito', 'Barbacoa Burrito', 'Steak Burrito', 'Steak Salad Bowl', 'Steak Salad', 'Carnitas Salad Bowl', 'Steak Bowl', 'Canned Soda', 'Barbacoa Salad Bowl', 'Barbacoa Crispy Tacos', '6 Pack Soft Drink', 'Chicken Soft Tacos', 'Carnitas Soft Tacos', 'Burrito', 'Chicken Bowl', 'Chips and Roasted Chili Corn Salsa', 'Carnitas Bowl', 'Barbacoa Bowl', 'Carnitas Salad', 'Chicken Salad', 'Steak Crispy Tacos', 'Bowl', 'Chips and Mild Fresh Tomato Salsa', 'Chips and Tomatillo Green Chili Salsa', 'Chips and Fresh Tomato Salsa', 'Chicken Burrito', 'Canned Soft Drink', 'Carnitas Burrito', 'Izze'}\n"
     ]
    }
   ],
   "source": [
    "uniqueNames = set(chipotle_data['item_name'])\n",
    "print(uniqueNames)"
   ]
  },
  {
   "cell_type": "code",
   "execution_count": 30,
   "metadata": {},
   "outputs": [
    {
     "name": "stdout",
     "output_type": "stream",
     "text": [
      "item_name\n",
      "Chicken Bowl           761\n",
      "Chicken Burrito        591\n",
      "Chips and Guacamole    506\n",
      "Steak Burrito          386\n",
      "Canned Soft Drink      351\n",
      "Name: quantity, dtype: int64\n"
     ]
    },
    {
     "data": {
      "image/png": "[encoded data removed]",
      "text/plain": [
       "<Figure size 1000x500 with 1 Axes>"
      ]
     },
     "metadata": {},
     "output_type": "display_data"
    }
   ],
   "source": [
    "items = chipotle_data.groupby('item_name')['quantity'].sum()\n",
    "fiveHighestItems = items.sort_values(ascending=False)\n",
    "fiveHighest = fiveHighestItems.head()\n",
    "print(fiveHighest)\n",
    "name = fiveHighest.to_numpy()\n",
    "quantity = fiveHighest.to_numpy()\n",
    "\n",
    "#y-axis quantity\n",
    "#x-axis item_name\n",
    "plt.figure(figsize = (10, 5))\n",
    "#plt.bar(fiveHighest['item_name'], fiveHighest['max_quantity'], color='blue', width = 0.4)\n",
    "plt.bar(name, quantity, color='skyblue', width = 20, alpha = 0.6)\n",
    "\n",
    "plt.title(\"Top 5 Items Sold Bar Graph\")\n",
    "plt.xlabel(\"Item Name\")\n",
    "plt.ylabel(\"Quantity Sold\")\n",
    "plt.tight_layout()\n",
    "\n",
    "plt.show()\n"
   ]
  }
 ],
 "metadata": {
  "kernelspec": {
   "display_name": "Python 3",
   "language": "python",
   "name": "python3"
  },
  "language_info": {
   "codemirror_mode": {
    "name": "ipython",
    "version": 3
   },
   "file_extension": ".py",
   "mimetype": "text/x-python",
   "name": "python",
   "nbconvert_exporter": "python",
   "pygments_lexer": "ipython3",
   "version": "3.12.4"
  }
 },
 "nbformat": 4,
 "nbformat_minor": 2
}
